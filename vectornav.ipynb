{
 "cells": [
  {
   "cell_type": "code",
   "execution_count": 16,
   "metadata": {
    "collapsed": false
   },
   "outputs": [],
   "source": [
    "import serial\n",
    "import numpy as np\n",
    "import time\n",
    "\n",
    "from matplotlib import pyplot as plt\n",
    "%matplotlib inline"
   ]
  },
  {
   "cell_type": "code",
   "execution_count": 32,
   "metadata": {
    "collapsed": false
   },
   "outputs": [],
   "source": [
    "def measure(time_length, ymr=False):\n",
    "    # time_length in seconds\n",
    "    ser = serial.Serial('/dev/tty.AdafruitEZ-Link6761-SPP', 115200)\n",
    "    ser.flushInput()\n",
    "    ser.flushOutput()\n",
    "    # ser.write('$VNWRG,07,100*6C\\n')\n",
    "    print(ser.readline())\n",
    "    print(ser.readline())\n",
    "    counter = 1\n",
    "    max_counter = time_length * 100\n",
    "    ax_list = []\n",
    "    ay_list = []\n",
    "    az_list = []\n",
    "    time_list = []\n",
    "    base = time.time()\n",
    "    while counter <= max_counter:\n",
    "        temp_line = ser.readline()\n",
    "        temp_time = time.time() - base\n",
    "        if counter == 1:\n",
    "            counter += 1\n",
    "            continue\n",
    "        if ymr:\n",
    "            temp_line_list = temp_line.split(\",\")\n",
    "            ax_list.append(float(temp_line_list[7]))\n",
    "            ay_list.append(float(temp_line_list[8]))\n",
    "            az_list.append(float(temp_line_list[9]))\n",
    "            time_list.append(temp_time)\n",
    "        else:\n",
    "            temp_line_list = temp_line[:-5].split(\",\")\n",
    "            ax_temp = temp_line_list[1].replace(\"\\x00\", \"\")\n",
    "            ay_temp = temp_line_list[2].replace(\"\\x00\", \"\")\n",
    "            az_temp = temp_line_list[3].replace(\"\\x00\", \"\")\n",
    "            ax_list.append(float(ax_temp))\n",
    "            ay_list.append(float(ay_temp))\n",
    "            az_list.append(float(az_temp))\n",
    "            time_list.append(temp_time)\n",
    "        counter += 1\n",
    "    ser.close()\n",
    "    return(time_list, ax_list, ay_list, az_list)"
   ]
  },
  {
   "cell_type": "code",
   "execution_count": 30,
   "metadata": {
    "collapsed": true
   },
   "outputs": [],
   "source": [
    "def VNChecksum(string):\n",
    "    p = np.zeros((1,1),dtype='uint8');\n",
    "\n",
    "    for i in range(0, len(string)):\n",
    "        p = p ^ ord(string[i])\n",
    "    CS = hex(p)\n",
    "    return CS[2:].upper()"
   ]
  },
  {
   "cell_type": "code",
   "execution_count": 31,
   "metadata": {
    "collapsed": true
   },
   "outputs": [],
   "source": [
    "def cmd(string):\n",
    "    ser = serial.Serial('/dev/tty.AdafruitEZ-Link6761-SPP', 115200)\n",
    "    string = \"$\" + string + \"*\" + VNChecksum(string)\n",
    "    ser.flushInput()\n",
    "    ser.flushOutput()\n",
    "    ser.write(string)\n",
    "    ser.close()"
   ]
  },
  {
   "cell_type": "code",
   "execution_count": 33,
   "metadata": {
    "collapsed": false
   },
   "outputs": [
    {
     "name": "stdout",
     "output_type": "stream",
     "text": [
      "$VNACC,-00.228,+00.097,-09.642*4F\r\n",
      "\n",
      "$VNACC,-00.207,+00.092,-09.632*40\r\n",
      "\n"
     ]
    },
    {
     "data": {
      "image/png": "[encoded data removed]",
      "text/plain": [
       "<matplotlib.figure.Figure at 0x10e198710>"
      ]
     },
     "metadata": {},
     "output_type": "display_data"
    }
   ],
   "source": [
    "cmd('VNWRG,07,100')\n",
    "cmd('VNWRG,06,11')\n",
    "time_list, ax_list, ay_list, az_list = measure(10)\n",
    "plt.plot(time_list, ax_list)\n",
    "plt.show()"
   ]
  }
 ],
 "metadata": {
  "kernelspec": {
   "display_name": "Python 2",
   "language": "python",
   "name": "python2"
  },
  "language_info": {
   "codemirror_mode": {
    "name": "ipython",
    "version": 2
   },
   "file_extension": ".py",
   "mimetype": "text/x-python",
   "name": "python",
   "nbconvert_exporter": "python",
   "pygments_lexer": "ipython2",
   "version": "2.7.9"
  }
 },
 "nbformat": 4,
 "nbformat_minor": 0
}
