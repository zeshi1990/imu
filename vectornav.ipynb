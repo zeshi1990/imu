{
 "cells": [
  {
   "cell_type": "code",
   "execution_count": 1,
   "metadata": {
    "collapsed": true
   },
   "outputs": [],
   "source": [
    "import serial\n",
    "import numpy as np\n",
    "import time\n",
    "\n",
    "from matplotlib import pyplot as plt\n",
    "%matplotlib inline"
   ]
  },
  {
   "cell_type": "code",
   "execution_count": null,
   "metadata": {
    "collapsed": true
   },
   "outputs": [],
   "source": [
    "ser = serial.Serial('/dev/rfcomm0', baudrate=230400)\n",
    "print(ser.readline())\n",
    "print(ser.readline())\n",
    "print(ser.readline())\n",
    "ser.close()"
   ]
  },
  {
   "cell_type": "code",
   "execution_count": null,
   "metadata": {
    "collapsed": true
   },
   "outputs": [],
   "source": [
    "ser = serial.Serial('/dev/ttyUSB0', 460800)\n",
    "ser.flushInput()\n",
    "ser.flushOutput()\n",
    "# ser.write('$VNWRG,07,100*6C\\n')\n",
    "print(ser.readline())\n",
    "print(ser.readline())\n",
    "counter = 1\n",
    "ax_list = []\n",
    "ay_list = []\n",
    "az_list = []\n",
    "time_list = []\n",
    "base = time.time()\n",
    "while counter <= 1000:\n",
    "    temp_line = ser.readline()\n",
    "    temp_time = time.time() - base\n",
    "    if counter == 1:\n",
    "        counter += 1\n",
    "        continue\n",
    "    temp_line_list = temp_line[:-5].split(\",\")\n",
    "    ax_temp = temp_line_list[1].replace(\"\\x00\", \"\")\n",
    "    ay_temp = temp_line_list[2].replace(\"\\x00\", \"\")\n",
    "    az_temp = temp_line_list[3].replace(\"\\x00\", \"\")\n",
    "    ax_list.append(float(ax_temp))\n",
    "    ay_list.append(float(ay_temp))\n",
    "    az_list.append(float(az_temp))\n",
    "    time_list.append(temp_time)\n",
    "    counter += 1\n",
    "ser.close()\n",
    "\n",
    "plt.plot(time_list, ax_list)\n",
    "plt.show()\n",
    "plt.plot(time_list, ay_list)\n",
    "plt.show()\n",
    "plt.plot(time_list, az_list)\n",
    "plt.show()"
   ]
  },
  {
   "cell_type": "code",
   "execution_count": null,
   "metadata": {
    "collapsed": true
   },
   "outputs": [],
   "source": [
    "ser = serial.Serial('/dev/ttyUSB0', 230400)\n",
    "ser.flushInput()\n",
    "ser.flushOutput()\n",
    "# ser.write('$VNRRG,07,100*69\\n')\n",
    "# ser.write('$VNWRG,06,11*5C\\n')\n",
    "ser.write('$VNWRG,05,230400*5A\\n')\n",
    "ser.close()"
   ]
  },
  {
   "cell_type": "code",
   "execution_count": null,
   "metadata": {
    "collapsed": true
   },
   "outputs": [],
   "source": [
    "def VNChecksum(string):\n",
    "    p = np.zeros((1,1),dtype='uint8');\n",
    "\n",
    "    for i in range(0, len(string)):\n",
    "        p = p ^ ord(string[i])\n",
    "    CS = hex(p)\n",
    "    return CS[2:].upper()"
   ]
  }
 ],
 "metadata": {
  "kernelspec": {
   "display_name": "Python 2",
   "language": "python",
   "name": "python2"
  },
  "language_info": {
   "codemirror_mode": {
    "name": "ipython",
    "version": 2
   },
   "file_extension": ".py",
   "mimetype": "text/x-python",
   "name": "python",
   "nbconvert_exporter": "python",
   "pygments_lexer": "ipython2",
   "version": "2.7.9"
  }
 },
 "nbformat": 4,
 "nbformat_minor": 0
}
